{
  "nbformat": 4,
  "nbformat_minor": 0,
  "metadata": {
    "colab": {
      "name": "Github Connect",
      "provenance": [],
      "collapsed_sections": [],
      "authorship_tag": "ABX9TyPcL2D/piEgOjGPwmyA5fhL",
      "include_colab_link": true
    },
    "kernelspec": {
      "name": "python3",
      "display_name": "Python 3"
    },
    "language_info": {
      "name": "python"
    }
  },
  "cells": [
    {
      "cell_type": "markdown",
      "metadata": {
        "id": "view-in-github",
        "colab_type": "text"
      },
      "source": [
        "<a href=\"https://colab.research.google.com/github/devcon14/colab-connect/blob/main/Github_Connect.ipynb\" target=\"_parent\"><img src=\"https://colab.research.google.com/assets/colab-badge.svg\" alt=\"Open In Colab\"/></a>"
      ]
    },
    {
      "cell_type": "code",
      "execution_count": 1,
      "metadata": {
        "colab": {
          "base_uri": "https://localhost:8080/"
        },
        "id": "BtzBGX_6ESae",
        "outputId": "549d4a45-6be4-48e2-fd09-c08bd73348bc"
      },
      "outputs": [
        {
          "output_type": "stream",
          "name": "stdout",
          "text": [
            "hello\n",
            "world\n"
          ]
        }
      ],
      "source": [
        "print (\"hello\")\n",
        "\n",
        "if __name__ == \"__main__\":\n",
        "  print (\"world\")\n",
        "  "
      ]
    }
  ]
}