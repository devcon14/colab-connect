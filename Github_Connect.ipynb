{
  "nbformat": 4,
  "nbformat_minor": 0,
  "metadata": {
    "colab": {
      "name": "Github Connect",
      "provenance": [],
      "collapsed_sections": [],
      "authorship_tag": "ABX9TyMy79q30JlQg6hewYYpO7jL",
      "include_colab_link": true
    },
    "kernelspec": {
      "name": "python3",
      "display_name": "Python 3"
    },
    "language_info": {
      "name": "python"
    }
  },
  "cells": [
    {
      "cell_type": "markdown",
      "metadata": {
        "id": "view-in-github",
        "colab_type": "text"
      },
      "source": [
        "<a href=\"https://colab.research.google.com/github/devcon14/colab-connect/blob/main/Github_Connect.ipynb\" target=\"_parent\"><img src=\"https://colab.research.google.com/assets/colab-badge.svg\" alt=\"Open In Colab\"/></a>"
      ]
    },
    {
      "cell_type": "code",
      "execution_count": null,
      "metadata": {
        "colab": {
          "base_uri": "https://localhost:8080/"
        },
        "id": "BtzBGX_6ESae",
        "outputId": "a1bfff83-a2fb-479b-df9e-81ea4408e00d"
      },
      "outputs": [
        {
          "output_type": "stream",
          "name": "stdout",
          "text": [
            "hello\n",
            "world\n"
          ]
        }
      ],
      "source": [
        "print (\"hello\")\n",
        "\n",
        "if __name__ == \"__main__\":\n",
        "  print (\"world\")"
      ]
    },
    {
      "cell_type": "code",
      "source": [
        "!git version"
      ],
      "metadata": {
        "colab": {
          "base_uri": "https://localhost:8080/"
        },
        "id": "OAdVp6OZJgUK",
        "outputId": "bb912e75-189e-4779-c1b3-68a55bf69c64"
      },
      "execution_count": null,
      "outputs": [
        {
          "output_type": "stream",
          "name": "stdout",
          "text": [
            "git version 2.17.1\n"
          ]
        }
      ]
    },
    {
      "cell_type": "code",
      "source": [
        "# https://stackoverflow.com/questions/52681405/how-can-i-import-custom-modules-from-a-github-repository-in-google-colab"
      ],
      "metadata": {
        "id": "n_epqCQvJoc0"
      },
      "execution_count": null,
      "outputs": []
    }
  ]
}